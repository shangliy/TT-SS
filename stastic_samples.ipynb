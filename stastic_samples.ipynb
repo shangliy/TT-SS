{
 "cells": [
  {
   "cell_type": "code",
   "execution_count": 2,
   "metadata": {},
   "outputs": [],
   "source": [
    "# users 是一个list, list中的每个值对应一个user id.\n",
    "users = [111,111,111,222,222,333,333,333,333]\n",
    "#　documents 是一个list，　list中的每个值对应users中同样位置userid所读的文章.\n",
    "# 所以user 111 读了　三篇文章　【'aaa','ccc','ddd'】\n",
    "documents = ['aaa','ccc','ddd','bbb','aaa','eee','ddd','aaa','bbb']\n"
   ]
  },
  {
   "cell_type": "code",
   "execution_count": 3,
   "metadata": {},
   "outputs": [],
   "source": [
    "# defaultdict是一种特殊的dict. 主要好处在于可以定义默认的键值。\n",
    "from collections import defaultdict\n"
   ]
  },
  {
   "cell_type": "code",
   "execution_count": 4,
   "metadata": {},
   "outputs": [],
   "source": [
    "user_document = defaultdict(set)"
   ]
  },
  {
   "cell_type": "code",
   "execution_count": 5,
   "metadata": {},
   "outputs": [],
   "source": [
    "for i in range(len(users)):\n",
    "    user_id = users[i]\n",
    "    document_id = documents[i]\n",
    "    # set 数据结构　使用add时只会保留unique的值。\n",
    "    user_document[user_id].add(document_id)\n"
   ]
  },
  {
   "cell_type": "code",
   "execution_count": 6,
   "metadata": {},
   "outputs": [
    {
     "name": "stdout",
     "output_type": "stream",
     "text": [
      "user id 111 read total 3 documents.\n",
      "user id 222 read total 2 documents.\n",
      "user id 333 read total 4 documents.\n"
     ]
    }
   ],
   "source": [
    "for user_id in user_document:\n",
    "    print(f\"user id {user_id} read total {len(user_document[user_id])} documents.\")"
   ]
  },
  {
   "cell_type": "code",
   "execution_count": 7,
   "metadata": {},
   "outputs": [
    {
     "name": "stdout",
     "output_type": "stream",
     "text": [
      "defaultdict(<class 'set'>, {111: {'ddd', 'aaa', 'ccc'}, 222: {'aaa', 'bbb'}, 333: {'eee', 'ddd', 'aaa', 'bbb'}})\n"
     ]
    }
   ],
   "source": [
    "print(user_document)"
   ]
  },
  {
   "cell_type": "code",
   "execution_count": null,
   "metadata": {},
   "outputs": [],
   "source": []
  }
 ],
 "metadata": {
  "kernelspec": {
   "display_name": "Python 3",
   "language": "python",
   "name": "python3"
  },
  "language_info": {
   "codemirror_mode": {
    "name": "ipython",
    "version": 3
   },
   "file_extension": ".py",
   "mimetype": "text/x-python",
   "name": "python",
   "nbconvert_exporter": "python",
   "pygments_lexer": "ipython3",
   "version": "3.7.3"
  }
 },
 "nbformat": 4,
 "nbformat_minor": 2
}
